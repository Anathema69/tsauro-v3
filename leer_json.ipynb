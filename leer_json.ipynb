{
 "cells": [
  {
   "cell_type": "code",
   "execution_count": 2,
   "id": "823d8923",
   "metadata": {},
   "outputs": [],
   "source": [
    "import pandas as pd\n",
    "import os\n",
    "pd.set_option('display.max_colwidth', None)\n",
    "\n",
    "# Leer el JSON de progreso\n",
    "df = pd.read_json(\"results.json\")\n",
    "df = df.sort_values(by=['page','card'])\n",
    "\n",
    "\n"
   ]
  },
  {
   "cell_type": "code",
   "execution_count": 3,
   "id": "3782b279",
   "metadata": {},
   "outputs": [],
   "source": [
    "os.makedirs('info',exist_ok=True)\n",
    "\n",
    "archivo_excel = os.path.join('info', 'descargas.xlsx')\n",
    "\n",
    "df.to_excel(archivo_excel, index=False)"
   ]
  }
 ],
 "metadata": {
  "kernelspec": {
   "display_name": "env",
   "language": "python",
   "name": "python3"
  },
  "language_info": {
   "codemirror_mode": {
    "name": "ipython",
    "version": 3
   },
   "file_extension": ".py",
   "mimetype": "text/x-python",
   "name": "python",
   "nbconvert_exporter": "python",
   "pygments_lexer": "ipython3",
   "version": "3.13.2"
  }
 },
 "nbformat": 4,
 "nbformat_minor": 5
}
