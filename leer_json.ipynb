{
 "cells": [
  {
   "cell_type": "code",
   "execution_count": 1,
   "id": "823d8923",
   "metadata": {},
   "outputs": [],
   "source": [
    "import pandas as pd\n",
    "import os\n",
    "pd.set_option('display.max_colwidth', None)\n",
    "\n",
    "# Leer el JSON de progreso\n",
    "df = pd.read_json(\"results.json\")\n",
    "df = df.sort_values(by=['page','card'])\n",
    "\n",
    "\n"
   ]
  },
  {
   "cell_type": "code",
   "execution_count": 2,
   "id": "3782b279",
   "metadata": {},
   "outputs": [],
   "source": [
    "os.makedirs('info',exist_ok=True)\n",
    "\n",
    "archivo_excel = os.path.join('info', 'descargas.xlsx')\n",
    "\n",
    "df.to_excel(archivo_excel, index=False)"
   ]
  },
  {
   "cell_type": "code",
   "execution_count": 8,
   "id": "0c5972b3",
   "metadata": {},
   "outputs": [
    {
     "data": {
      "text/html": [
       "<div>\n",
       "<style scoped>\n",
       "    .dataframe tbody tr th:only-of-type {\n",
       "        vertical-align: middle;\n",
       "    }\n",
       "\n",
       "    .dataframe tbody tr th {\n",
       "        vertical-align: top;\n",
       "    }\n",
       "\n",
       "    .dataframe thead th {\n",
       "        text-align: right;\n",
       "    }\n",
       "</style>\n",
       "<table border=\"1\" class=\"dataframe\">\n",
       "  <thead>\n",
       "    <tr style=\"text-align: right;\">\n",
       "      <th></th>\n",
       "      <th>page</th>\n",
       "      <th>card</th>\n",
       "      <th>title</th>\n",
       "      <th>process_number</th>\n",
       "    </tr>\n",
       "  </thead>\n",
       "  <tbody>\n",
       "    <tr>\n",
       "      <th>8</th>\n",
       "      <td>2</td>\n",
       "      <td>4</td>\n",
       "      <td>Reconocimiento de los presupuestos de ineficacia previstos en el Libro Segundo del Código de Comercio. Ley 446 de 1998 artículo 133, actualmente incorporado al Estatuto Orgánico del Sistema Financiero en su artículo 326 numeral octavo</td>\n",
       "      <td>2018-800-00455</td>\n",
       "    </tr>\n",
       "    <tr>\n",
       "      <th>29</th>\n",
       "      <td>6</td>\n",
       "      <td>5</td>\n",
       "      <td>Reconocimiento de los presupuestos de ineficacia previstos en el Libro Segundo del Código de Comercio. Ley 446 de 1998 artículo 133, actualmente incorporado al Estatuto Orgánico del Sistema Financiero en su artículo 326 numeral octavo</td>\n",
       "      <td>2018-800-00455</td>\n",
       "    </tr>\n",
       "  </tbody>\n",
       "</table>\n",
       "</div>"
      ],
      "text/plain": [
       "    page  card  \\\n",
       "8      2     4   \n",
       "29     6     5   \n",
       "\n",
       "                                                                                                                                                                                                                                         title  \\\n",
       "8   Reconocimiento de los presupuestos de ineficacia previstos en el Libro Segundo del Código de Comercio. Ley 446 de 1998 artículo 133, actualmente incorporado al Estatuto Orgánico del Sistema Financiero en su artículo 326 numeral octavo   \n",
       "29  Reconocimiento de los presupuestos de ineficacia previstos en el Libro Segundo del Código de Comercio. Ley 446 de 1998 artículo 133, actualmente incorporado al Estatuto Orgánico del Sistema Financiero en su artículo 326 numeral octavo   \n",
       "\n",
       "    process_number  \n",
       "8   2018-800-00455  \n",
       "29  2018-800-00455  "
      ]
     },
     "execution_count": 8,
     "metadata": {},
     "output_type": "execute_result"
    }
   ],
   "source": [
    "df[df['process_number']=='2018-800-00455']"
   ]
  },
  {
   "cell_type": "code",
   "execution_count": 6,
   "id": "866c2b7e",
   "metadata": {},
   "outputs": [
    {
     "data": {
      "text/plain": [
       "process_number\n",
       "2018-800-00455     True\n",
       "2019-800-00419     True\n",
       "2020-800-00173     True\n",
       "2017-800-00288     True\n",
       "2020-800-00152     True\n",
       "                  ...  \n",
       "2011-802-003      False\n",
       "2015-800-056      False\n",
       "2018-800-00409    False\n",
       "2018-800-00316    False\n",
       "2019-800-00391    False\n",
       "Name: count, Length: 124, dtype: bool"
      ]
     },
     "execution_count": 6,
     "metadata": {},
     "output_type": "execute_result"
    }
   ],
   "source": [
    "df['process_number'].value_counts()>1"
   ]
  }
 ],
 "metadata": {
  "kernelspec": {
   "display_name": "env",
   "language": "python",
   "name": "python3"
  },
  "language_info": {
   "codemirror_mode": {
    "name": "ipython",
    "version": 3
   },
   "file_extension": ".py",
   "mimetype": "text/x-python",
   "name": "python",
   "nbconvert_exporter": "python",
   "pygments_lexer": "ipython3",
   "version": "3.13.2"
  }
 },
 "nbformat": 4,
 "nbformat_minor": 5
}
